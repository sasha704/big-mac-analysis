{
 "cells": [
  {
   "cell_type": "code",
   "execution_count": 1,
   "metadata": {},
   "outputs": [],
   "source": [
    "# import libraries\n",
    "import pandas as pd"
   ]
  },
  {
   "cell_type": "code",
   "execution_count": 8,
   "metadata": {},
   "outputs": [],
   "source": [
    "# read in an excel file with multiple sheets\n",
    "data_full = pd.ExcelFile('BMFile2000toJul2017.xls')"
   ]
  },
  {
   "attachments": {},
   "cell_type": "markdown",
   "metadata": {},
   "source": [
    "Display data for all countries in July 2017 as a bar chart."
   ]
  },
  {
   "cell_type": "code",
   "execution_count": 10,
   "metadata": {},
   "outputs": [
    {
     "name": "stdout",
     "output_type": "stream",
     "text": [
      "Country\n",
      "local_price\n",
      "dollar_ex\n",
      "dollar_price\n",
      "dollar_ppp\n",
      "dollar_valuation\n",
      "dollar_adj_valuation\n",
      "euro_adj_valuation\n",
      "sterling_adj_valuation\n",
      "yen_adj_valuation\n",
      "yuan_adj_valuation\n",
      "['Jul2017', 'Jan2017', 'Jul2016', 'Jan2016', 'Jul2015', 'Jan2015', 'Jul2014', 'Jan2014', 'Jul2013', 'Jan2013', 'Jul2012', 'Jan2012', 'Jul2011', 'Jul2010', 'Jan2010', 'Jul2009', 'Jun2008', 'Jun2007', 'Jan2007', 'May2006', 'Jan2006', 'Jun2005', 'May2004', 'Apr2003', 'Apr2002', 'Apr2001', 'Apr2000']\n"
     ]
    }
   ],
   "source": [
    "data_july_2017 = pd.read_excel(data_full, 'Jul2017')\n",
    "\n",
    "for column_headers in data_july_2017.columns: \n",
    "    print(column_headers)\n",
    "\n",
    "print(data_full.sheet_names)"
   ]
  },
  {
   "attachments": {},
   "cell_type": "markdown",
   "metadata": {},
   "source": [
    "Display data for Malaysia from April 2000 to July 2017."
   ]
  },
  {
   "attachments": {},
   "cell_type": "markdown",
   "metadata": {},
   "source": [
    "Display data from each country from April 2000 to July 2017, ensuring representation of years with no data."
   ]
  },
  {
   "attachments": {},
   "cell_type": "markdown",
   "metadata": {},
   "source": [
    "Display data for all countries in July 2017 on a map."
   ]
  }
 ],
 "metadata": {
  "kernelspec": {
   "display_name": ".venv",
   "language": "python",
   "name": "python3"
  },
  "language_info": {
   "codemirror_mode": {
    "name": "ipython",
    "version": 3
   },
   "file_extension": ".py",
   "mimetype": "text/x-python",
   "name": "python",
   "nbconvert_exporter": "python",
   "pygments_lexer": "ipython3",
   "version": "3.11.0"
  },
  "orig_nbformat": 4
 },
 "nbformat": 4,
 "nbformat_minor": 2
}
