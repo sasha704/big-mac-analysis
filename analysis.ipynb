{
 "cells": [
  {
   "cell_type": "code",
   "execution_count": null,
   "metadata": {},
   "outputs": [],
   "source": [
    "# import libraries\n",
    "import pandas as pd\n",
    "from matplotlib import pyplot as plt"
   ]
  },
  {
   "cell_type": "code",
   "execution_count": null,
   "metadata": {},
   "outputs": [],
   "source": [
    "# read in an excel file with multiple sheets\n",
    "data_full = pd.ExcelFile('CleanedBMFile2000toJul2017.xls')\n",
    "\n",
    "#for column_headers in data_july_2017.columns: \n",
    "    #print(column_headers)\n",
    "\n",
    "#print(data_full.sheet_names)"
   ]
  },
  {
   "attachments": {},
   "cell_type": "markdown",
   "metadata": {},
   "source": [
    "Display price in dollars for all countries in July 2017 as a bar chart."
   ]
  },
  {
   "cell_type": "code",
   "execution_count": null,
   "metadata": {},
   "outputs": [],
   "source": [
    "# set data from July 2017 as a dataframe\n",
    "data_july_2017 = pd.read_excel(data_full, 'Jul2017')\n",
    "\n",
    "# set the index to the country\n",
    "data_july_2017 = data_july_2017.set_index('Country')\n",
    "\n",
    "# plot the data\n",
    "dollar_july_2017 = data_july_2017['dollar_price'].plot(kind=\"bar\", title='Price of a big mac in USD for July 2017 by Country', figsize=(20, 3))\n",
    "\n",
    "# add the relevant y label\n",
    "dollar_july_2017.set_ylabel(\"Price in USD\")"
   ]
  },
  {
   "attachments": {},
   "cell_type": "markdown",
   "metadata": {},
   "source": [
    "Display data for Malaysia from April 2000 to July 2017."
   ]
  },
  {
   "cell_type": "code",
   "execution_count": null,
   "metadata": {},
   "outputs": [],
   "source": [
    "# set the default plot size\n",
    "plt.rcParams[\"figure.figsize\"] = [20, 3.50]\n",
    "plt.rcParams[\"figure.autolayout\"] = True\n",
    "\n",
    "# create an empty list to store the dollar prices for each sheet\n",
    "dollar_prices = []\n",
    "\n",
    "# for each sheet in the excel file\n",
    "for sheet in data_full.sheet_names:\n",
    "    # read in the sheet as a dataframe\n",
    "    data = pd.read_excel(data_full, sheet)\n",
    "\n",
    "    # retrieve the dollar price for Malaysia\n",
    "    dollar_price = data.loc[data['Country'] == 'Malaysia', 'dollar_price']\n",
    "\n",
    "    # append the dollar price to the list\n",
    "    dollar_prices.append(dollar_price)\n",
    "\n",
    "# plot the prices with the sheet names as the x axis labels\n",
    "plt.plot(data_full.sheet_names, dollar_prices)\n",
    "\n",
    "# show the plot\n",
    "plt.show()\n"
   ]
  },
  {
   "attachments": {},
   "cell_type": "markdown",
   "metadata": {},
   "source": [
    "Display data from each country from April 2000 to July 2017, ensuring representation of years with no data."
   ]
  },
  {
   "attachments": {},
   "cell_type": "markdown",
   "metadata": {},
   "source": [
    "Display data for all countries in July 2017 on a map."
   ]
  }
 ],
 "metadata": {
  "kernelspec": {
   "display_name": ".venv",
   "language": "python",
   "name": "python3"
  },
  "language_info": {
   "codemirror_mode": {
    "name": "ipython",
    "version": 3
   },
   "file_extension": ".py",
   "mimetype": "text/x-python",
   "name": "python",
   "nbconvert_exporter": "python",
   "pygments_lexer": "ipython3",
   "version": "3.11.0"
  },
  "orig_nbformat": 4
 },
 "nbformat": 4,
 "nbformat_minor": 2
}
